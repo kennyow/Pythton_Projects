{
 "cells": [
  {
   "cell_type": "code",
   "execution_count": null,
   "id": "0807bb4e",
   "metadata": {},
   "outputs": [],
   "source": [
    "import pandas as pd\n",
    "import numpy as np\n",
    "import matplotlib.pyplot as plt\n",
    "import seaborn as sns "
   ]
  },
  {
   "cell_type": "markdown",
   "id": "7b3863e5",
   "metadata": {},
   "source": [
    "# *CÁLCULO DE TARIFA ÁGUA - CAGEPA - 2021-2023*\n"
   ]
  },
  {
   "cell_type": "markdown",
   "id": "820daf98",
   "metadata": {},
   "source": [
    "### WATER RATE CALCULATION - CAGEPA - 2021-2023\n"
   ]
  },
  {
   "cell_type": "code",
   "execution_count": 38,
   "id": "f534d2b9",
   "metadata": {},
   "outputs": [],
   "source": [
    "def dfrm(y): #Function - receive year from CM3 / Função - Recebe ano do CM3\n",
    "    \"\"\"\n",
    "    Each year has a different tables with adjusted values / Cada ano tem tabelas diferentes com valores ajustados\n",
    "    \"\"\"\n",
    "    if y == 2021:\n",
    "        TB21 = np.array([[40.64, 32.51, 0, 0.8], [5.24, 4.19, 0, 0.8], [6.91, 6.22, 0, 0.9], [9.39, 9.39, 0, 1]])\n",
    "        df = pd.DataFrame(TB21)\n",
    "        print(f'---Tabela de Preços de {y}---')\n",
    "        print(df)\n",
    "        print('-' * 30)\n",
    "    if y == 2022:\n",
    "        TB22 = np.array([[44.03, 35.22, 0, 0.8], [5.68, 4.54, 0, 0.8], [7.49, 6.74, 0, 0.9], [10.17, 10.17, 0, 1]])\n",
    "        df = pd.DataFrame(TB22)\n",
    "        print(f'---Tabela de Preços de {y}---')\n",
    "        print(df)\n",
    "        print('-' * 30)\n",
    "    if y == 2023:\n",
    "        TB23 = np.array([[46.28, 37.02, 0, 0.8], [5.97, 4.78, 0, 0.8], [7.87, 7.08, 0, 0.9], [10.69, 10.69, 0, 1]])\n",
    "        df = pd.DataFrame(TB23)\n",
    "        print(f'---Tabela de Preços de {y}---')\n",
    "        print(df)\n",
    "        print('-' * 30)\n",
    "        \n",
    "    return df\n"
   ]
  },
  {
   "cell_type": "code",
   "execution_count": 39,
   "id": "fe391daa",
   "metadata": {},
   "outputs": [],
   "source": [
    "def CM3(anno, x): #Function - Receive year and cubic meters/ Função - Recebe ano e metro cúbico\n",
    "\n",
    "    df = dfrm(anno)    #Function - Insert the year to another function / Função - Insere o ano para outra função    \n",
    "    cst = sum(df.iloc[0,:2]) #Select the first line and the first and second columns to sum them / Seleciona a primeira linhas e os valores da primeira e segunda coluna e somam os dois\n",
    "    print(f'Valor da Soma do df: {round(cst,2)}')\n",
    "    \n",
    "    #Calculate the values according to cubic meters / Calculando os valores de acordo com os metros cúbicos\n",
    "    if x < 11:\n",
    "        sp = cst\n",
    "\n",
    "    if x > 10 and x <=20:\n",
    "        sp = cst + (x-10)*sum(df.iloc[1, :2])\n",
    "\n",
    "    if x > 20 and x <=30:\n",
    "        sp = cst + (10)*sum(df.iloc[1,:2]) + (x-20)*sum(df.iloc[2, :2])\n",
    "  \n",
    "    if x > 30:\n",
    "        sp = cst + (10)*sum(df.iloc[1, :2]) + (10)*sum(df.iloc[2, :2])+ (x-30)*sum(df.iloc[3, :2])\n",
    "\n",
    "    return sp"
   ]
  },
  {
   "cell_type": "code",
   "execution_count": 60,
   "id": "039dee71",
   "metadata": {},
   "outputs": [
    {
     "name": "stdout",
     "output_type": "stream",
     "text": [
      "---Tabela de Preços de 2023---\n",
      "       0      1    2    3\n",
      "0  46.28  37.02  0.0  0.8\n",
      "1   5.97   4.78  0.0  0.8\n",
      "2   7.87   7.08  0.0  0.9\n",
      "3  10.69  10.69  0.0  1.0\n",
      "------------------------------\n",
      "Valor da Soma do df: 83.3\n",
      "Valor a ser pago em 2023: ..................R$\u001b[1m 377.07\u001b[0m.\n",
      "Volte sempre!\n"
     ]
    }
   ],
   "source": [
    "answer = 's'\n",
    "while answer == 's':\n",
    "    ano = int(input(\"Qual o ano de referência? \")) #year of reference\n",
    "    m3 = float(input(\"Quantos m³ foram consumidos? \")) #cubic meters\n",
    "    total = CM3(ano, m3)\n",
    "    print(f\"Valor a ser pago em {ano}: ..................R$\\033[1m {total:,.2f}\\033[0m.\")\n",
    "    answer = str(input('Deseja realizar outra conta? s/n '))\n",
    "print(\"Volte sempre!\")\n",
    "    "
   ]
  },
  {
   "cell_type": "markdown",
   "id": "1eaf283d",
   "metadata": {},
   "source": [
    "# *COMPARAÇÃO DO MODELO GERAL DE CONSUMO 2021-2023*"
   ]
  },
  {
   "cell_type": "markdown",
   "id": "66fcb608",
   "metadata": {},
   "source": [
    "### COMPARISON OF THE GENERAL CONSUMPTION MODEL"
   ]
  },
  {
   "cell_type": "code",
   "execution_count": null,
   "id": "ac8961a7",
   "metadata": {},
   "outputs": [],
   "source": [
    "consumo_modelo = [10, 20, 30, 40] #Aleatory M³ numbers for comparison/ Números em M³ aleatórios para comparação\n",
    "ano_base = [2021, 2022, 2023]\n",
    "listaw = []\n",
    "for ab in ano_base:\n",
    "    for cm in consumo_modelo:\n",
    "        total = float(CM3(ab, cm)) #Creating a df for each year and CM / Criando um df para cada ano e CM\n",
    "        listaw.append(total)"
   ]
  },
  {
   "cell_type": "code",
   "execution_count": 50,
   "id": "6dc8c56f",
   "metadata": {},
   "outputs": [
    {
     "name": "stdout",
     "output_type": "stream",
     "text": [
      "---- TABELA DE VALORES M³/ ANO ----\n"
     ]
    },
    {
     "data": {
      "text/html": [
       "<div>\n",
       "<style scoped>\n",
       "    .dataframe tbody tr th:only-of-type {\n",
       "        vertical-align: middle;\n",
       "    }\n",
       "\n",
       "    .dataframe tbody tr th {\n",
       "        vertical-align: top;\n",
       "    }\n",
       "\n",
       "    .dataframe thead th {\n",
       "        text-align: right;\n",
       "    }\n",
       "</style>\n",
       "<table border=\"1\" class=\"dataframe\">\n",
       "  <thead>\n",
       "    <tr style=\"text-align: right;\">\n",
       "      <th></th>\n",
       "      <th>2021</th>\n",
       "      <th>2022</th>\n",
       "      <th>2023</th>\n",
       "    </tr>\n",
       "  </thead>\n",
       "  <tbody>\n",
       "    <tr>\n",
       "      <th>C_10M3</th>\n",
       "      <td>73.15</td>\n",
       "      <td>79.25</td>\n",
       "      <td>83.3</td>\n",
       "    </tr>\n",
       "    <tr>\n",
       "      <th>C_20M3</th>\n",
       "      <td>167.45</td>\n",
       "      <td>181.45</td>\n",
       "      <td>190.8</td>\n",
       "    </tr>\n",
       "    <tr>\n",
       "      <th>C_30M3</th>\n",
       "      <td>298.75</td>\n",
       "      <td>323.75</td>\n",
       "      <td>340.3</td>\n",
       "    </tr>\n",
       "    <tr>\n",
       "      <th>C_40M3</th>\n",
       "      <td>486.55</td>\n",
       "      <td>527.15</td>\n",
       "      <td>554.1</td>\n",
       "    </tr>\n",
       "  </tbody>\n",
       "</table>\n",
       "</div>"
      ],
      "text/plain": [
       "          2021    2022   2023\n",
       "C_10M3   73.15   79.25   83.3\n",
       "C_20M3  167.45  181.45  190.8\n",
       "C_30M3  298.75  323.75  340.3\n",
       "C_40M3  486.55  527.15  554.1"
      ]
     },
     "execution_count": 50,
     "metadata": {},
     "output_type": "execute_result"
    }
   ],
   "source": [
    "colunas = ['C_10M3', 'C_20M3', 'C_30M3', 'C_40M3']\n",
    "lista = np.asarray(listaw).reshape(3, 4) #Reordering the table / Reordenando a tabela\n",
    "tab_modelo = pd.DataFrame(lista, index = ano_base, columns = colunas)\n",
    "tab_modelo = tab_modelo.T #Transpose Dataframe / Transposição do Dataframe\n",
    "print(\"---- TABELA DE VALORES M³/ ANO ----\")\n",
    "tab_modelo\n",
    "\n"
   ]
  },
  {
   "cell_type": "code",
   "execution_count": 41,
   "id": "09c43567",
   "metadata": {},
   "outputs": [
    {
     "data": {
      "image/png": "[encoded data removed]",
      "text/plain": [
       "<Figure size 640x480 with 1 Axes>"
      ]
     },
     "metadata": {},
     "output_type": "display_data"
    }
   ],
   "source": [
    "sns.lineplot(data = tab_modelo, markers = True) \n",
    "plt.xlabel('Consumo em m3')\n",
    "plt.ylabel('Valor em R$')\n",
    "plt.title('Consumo por Valor Gasto entre 2021 e 2023')\n",
    "\n",
    "\n",
    "plt.grid()\n",
    "plt.show()"
   ]
  },
  {
   "cell_type": "code",
   "execution_count": 56,
   "id": "97713e17",
   "metadata": {},
   "outputs": [],
   "source": [
    "df = tab_modelo.copy()\n",
    "percentual_aumento = ((df.iloc[:, 1:].values - df.iloc[:, :-1].values) / df.iloc[:, :-1].values * 100)\n",
    "\n",
    "# Get the name of the columns / Obter os nomes das colunas\n",
    "nomes_colunas = df.columns\n",
    "# Create a new DataFrame with the percentage increases and column names / Criar um novo DataFrame com os percentuais de aumento e nomes das colunas\n",
    "df_percentual = pd.DataFrame(percentual_aumento, columns=[f'Aumento % de {nomes_colunas[i]} para {nomes_colunas[i+1]}' for i in range(len(df.columns)-1)], index = colunas)\n"
   ]
  },
  {
   "cell_type": "code",
   "execution_count": 57,
   "id": "6c9679c9",
   "metadata": {},
   "outputs": [
    {
     "data": {
      "text/html": [
       "<div>\n",
       "<style scoped>\n",
       "    .dataframe tbody tr th:only-of-type {\n",
       "        vertical-align: middle;\n",
       "    }\n",
       "\n",
       "    .dataframe tbody tr th {\n",
       "        vertical-align: top;\n",
       "    }\n",
       "\n",
       "    .dataframe thead th {\n",
       "        text-align: right;\n",
       "    }\n",
       "</style>\n",
       "<table border=\"1\" class=\"dataframe\">\n",
       "  <thead>\n",
       "    <tr style=\"text-align: right;\">\n",
       "      <th></th>\n",
       "      <th>Aumento % de 2021 para 2022</th>\n",
       "      <th>Aumento % de 2022 para 2023</th>\n",
       "    </tr>\n",
       "  </thead>\n",
       "  <tbody>\n",
       "    <tr>\n",
       "      <th>C_10M3</th>\n",
       "      <td>8.339029</td>\n",
       "      <td>5.110410</td>\n",
       "    </tr>\n",
       "    <tr>\n",
       "      <th>C_20M3</th>\n",
       "      <td>8.360705</td>\n",
       "      <td>5.152935</td>\n",
       "    </tr>\n",
       "    <tr>\n",
       "      <th>C_30M3</th>\n",
       "      <td>8.368201</td>\n",
       "      <td>5.111969</td>\n",
       "    </tr>\n",
       "    <tr>\n",
       "      <th>C_40M3</th>\n",
       "      <td>8.344466</td>\n",
       "      <td>5.112397</td>\n",
       "    </tr>\n",
       "  </tbody>\n",
       "</table>\n",
       "</div>"
      ],
      "text/plain": [
       "        Aumento % de 2021 para 2022  Aumento % de 2022 para 2023\n",
       "C_10M3                     8.339029                     5.110410\n",
       "C_20M3                     8.360705                     5.152935\n",
       "C_30M3                     8.368201                     5.111969\n",
       "C_40M3                     8.344466                     5.112397"
      ]
     },
     "execution_count": 57,
     "metadata": {},
     "output_type": "execute_result"
    }
   ],
   "source": [
    "df_percentual"
   ]
  }
 ],
 "metadata": {
  "kernelspec": {
   "display_name": "Python 3 (ipykernel)",
   "language": "python",
   "name": "python3"
  },
  "language_info": {
   "codemirror_mode": {
    "name": "ipython",
    "version": 3
   },
   "file_extension": ".py",
   "mimetype": "text/x-python",
   "name": "python",
   "nbconvert_exporter": "python",
   "pygments_lexer": "ipython3",
   "version": "3.11.0"
  }
 },
 "nbformat": 4,
 "nbformat_minor": 5
}
